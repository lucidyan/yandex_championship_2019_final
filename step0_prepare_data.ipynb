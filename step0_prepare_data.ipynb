{
 "cells": [
  {
   "cell_type": "code",
   "execution_count": 1,
   "metadata": {},
   "outputs": [],
   "source": [
    "# !pip install --user pandas-profiling"
   ]
  },
  {
   "cell_type": "code",
   "execution_count": 2,
   "metadata": {},
   "outputs": [],
   "source": [
    "import os\n",
    "\n",
    "import numpy as np\n",
    "import pandas as pd\n",
    "import pandas_profiling\n",
    "import datetime"
   ]
  },
  {
   "cell_type": "code",
   "execution_count": 3,
   "metadata": {},
   "outputs": [],
   "source": [
    "!mkdir -p data"
   ]
  },
  {
   "cell_type": "code",
   "execution_count": 161,
   "metadata": {},
   "outputs": [],
   "source": [
    "RAW_DATA_PATH = './raw_data/'\n",
    "DATA_PATH = './data'"
   ]
  },
  {
   "cell_type": "code",
   "execution_count": 5,
   "metadata": {},
   "outputs": [
    {
     "name": "stdout",
     "output_type": "stream",
     "text": [
      "Blitz\t\t  test_users.csv  train_clicks.csv  train_shares.csv\r\n",
      "descriptions.csv  themes.csv\t  train_likes.csv   user_information.csv\r\n"
     ]
    }
   ],
   "source": [
    "!ls raw_data/"
   ]
  },
  {
   "cell_type": "code",
   "execution_count": 144,
   "metadata": {},
   "outputs": [
    {
     "data": {
      "text/html": [
       "<div>\n",
       "<style scoped>\n",
       "    .dataframe tbody tr th:only-of-type {\n",
       "        vertical-align: middle;\n",
       "    }\n",
       "\n",
       "    .dataframe tbody tr th {\n",
       "        vertical-align: top;\n",
       "    }\n",
       "\n",
       "    .dataframe thead th {\n",
       "        text-align: right;\n",
       "    }\n",
       "</style>\n",
       "<table border=\"1\" class=\"dataframe\">\n",
       "  <thead>\n",
       "    <tr style=\"text-align: right;\">\n",
       "      <th></th>\n",
       "      <th>user_id</th>\n",
       "      <th>picture_id</th>\n",
       "      <th>day</th>\n",
       "    </tr>\n",
       "  </thead>\n",
       "  <tbody>\n",
       "    <tr>\n",
       "      <th>0</th>\n",
       "      <td>490982</td>\n",
       "      <td>298754</td>\n",
       "      <td>2019-03-21</td>\n",
       "    </tr>\n",
       "    <tr>\n",
       "      <th>1</th>\n",
       "      <td>490989</td>\n",
       "      <td>1060978</td>\n",
       "      <td>2019-02-17</td>\n",
       "    </tr>\n",
       "    <tr>\n",
       "      <th>2</th>\n",
       "      <td>490989</td>\n",
       "      <td>976274</td>\n",
       "      <td>2019-02-17</td>\n",
       "    </tr>\n",
       "    <tr>\n",
       "      <th>3</th>\n",
       "      <td>490989</td>\n",
       "      <td>976273</td>\n",
       "      <td>2019-02-17</td>\n",
       "    </tr>\n",
       "    <tr>\n",
       "      <th>4</th>\n",
       "      <td>490989</td>\n",
       "      <td>976272</td>\n",
       "      <td>2019-02-17</td>\n",
       "    </tr>\n",
       "  </tbody>\n",
       "</table>\n",
       "</div>"
      ],
      "text/plain": [
       "   user_id  picture_id        day\n",
       "0   490982      298754 2019-03-21\n",
       "1   490989     1060978 2019-02-17\n",
       "2   490989      976274 2019-02-17\n",
       "3   490989      976273 2019-02-17\n",
       "4   490989      976272 2019-02-17"
      ]
     },
     "execution_count": 144,
     "metadata": {},
     "output_type": "execute_result"
    }
   ],
   "source": [
    "raw_data_likes = pd.read_csv(os.path.join(RAW_DATA_PATH, 'train_likes.csv'))\n",
    "raw_data_likes['day'] = pd.to_datetime(raw_data_likes['day'])\n",
    "raw_data_likes.head()"
   ]
  },
  {
   "cell_type": "code",
   "execution_count": 153,
   "metadata": {},
   "outputs": [],
   "source": [
    "def get_user_day_ordinal(df):\n",
    "    return np.concatenate(\n",
    "        (\n",
    "            df\n",
    "                .groupby(['user_id', 'day'] , sort=False)['day']\n",
    "                .apply(lambda s: np.arange(len(s)))\n",
    "        ).tolist()\n",
    "    )"
   ]
  },
  {
   "cell_type": "code",
   "execution_count": 152,
   "metadata": {},
   "outputs": [],
   "source": [
    "def get_pseudo_ts(df):\n",
    "    return np.concatenate(\n",
    "        (\n",
    "            df\n",
    "                .groupby(['user_id', 'day'], sort=False)['day']\n",
    "                .apply(lambda s: s.min() +  ((datetime.timedelta(days=1) / len(s)) * np.arange(len(s))))\n",
    "        ).tolist()\n",
    "    )"
   ]
  },
  {
   "cell_type": "code",
   "execution_count": null,
   "metadata": {},
   "outputs": [],
   "source": [
    "# def filter_users_pictures(df):\n",
    "#     df_user_actions_count = df.groupby('user_id')['picture_id'].count()\n",
    "#     selected_users = df_user_action_count[df_user_actions_count > 1].index.tolist()\n",
    "#     df = df[df['user_id'].isin(selected_users)]\n",
    "    \n",
    "#     df_user_actions_count = cutted_train_clicks.groupby('user_id')['picture_id'].count()\n",
    "#     selected_users = df_user_action_count[df_user_actions_count > 1].index.tolist()\n",
    "#     df = df[df['user_id'].isin(selected_users)]\n",
    "    \n",
    "#     df_picture_actions_count = df.groupby('picture_id')['user_id'].count()\n",
    "#     selected_pictures = df_picture_actions_count[df_picture_actions_count > 1].index.tolist()\n",
    "#     df = df[df['picture_id'].isin(selected_pictures)]\n",
    "    \n",
    "#     return df"
   ]
  },
  {
   "cell_type": "markdown",
   "metadata": {},
   "source": [
    "##### Likes"
   ]
  },
  {
   "cell_type": "code",
   "execution_count": 154,
   "metadata": {},
   "outputs": [
    {
     "data": {
      "text/html": [
       "<div>\n",
       "<style scoped>\n",
       "    .dataframe tbody tr th:only-of-type {\n",
       "        vertical-align: middle;\n",
       "    }\n",
       "\n",
       "    .dataframe tbody tr th {\n",
       "        vertical-align: top;\n",
       "    }\n",
       "\n",
       "    .dataframe thead th {\n",
       "        text-align: right;\n",
       "    }\n",
       "</style>\n",
       "<table border=\"1\" class=\"dataframe\">\n",
       "  <thead>\n",
       "    <tr style=\"text-align: right;\">\n",
       "      <th></th>\n",
       "      <th>user_id</th>\n",
       "      <th>picture_id</th>\n",
       "      <th>day</th>\n",
       "      <th>user_day_ordinal</th>\n",
       "      <th>pseudo_ts</th>\n",
       "    </tr>\n",
       "  </thead>\n",
       "  <tbody>\n",
       "    <tr>\n",
       "      <th>2515</th>\n",
       "      <td>0</td>\n",
       "      <td>361219</td>\n",
       "      <td>2019-03-05</td>\n",
       "      <td>0</td>\n",
       "      <td>2019-03-05 00:00:00</td>\n",
       "    </tr>\n",
       "    <tr>\n",
       "      <th>2516</th>\n",
       "      <td>0</td>\n",
       "      <td>179639</td>\n",
       "      <td>2019-03-05</td>\n",
       "      <td>1</td>\n",
       "      <td>2019-03-05 08:00:00</td>\n",
       "    </tr>\n",
       "    <tr>\n",
       "      <th>2517</th>\n",
       "      <td>0</td>\n",
       "      <td>222809</td>\n",
       "      <td>2019-03-05</td>\n",
       "      <td>2</td>\n",
       "      <td>2019-03-05 16:00:00</td>\n",
       "    </tr>\n",
       "    <tr>\n",
       "      <th>2514</th>\n",
       "      <td>7</td>\n",
       "      <td>1141076</td>\n",
       "      <td>2019-02-13</td>\n",
       "      <td>0</td>\n",
       "      <td>2019-02-13 00:00:00</td>\n",
       "    </tr>\n",
       "    <tr>\n",
       "      <th>2505</th>\n",
       "      <td>12</td>\n",
       "      <td>134491</td>\n",
       "      <td>2019-02-09</td>\n",
       "      <td>0</td>\n",
       "      <td>2019-02-09 00:00:00</td>\n",
       "    </tr>\n",
       "    <tr>\n",
       "      <th>2506</th>\n",
       "      <td>13</td>\n",
       "      <td>691209</td>\n",
       "      <td>2019-02-14</td>\n",
       "      <td>0</td>\n",
       "      <td>2019-02-14 00:00:00</td>\n",
       "    </tr>\n",
       "    <tr>\n",
       "      <th>2507</th>\n",
       "      <td>13</td>\n",
       "      <td>384307</td>\n",
       "      <td>2019-02-14</td>\n",
       "      <td>1</td>\n",
       "      <td>2019-02-14 12:00:00</td>\n",
       "    </tr>\n",
       "    <tr>\n",
       "      <th>2508</th>\n",
       "      <td>14</td>\n",
       "      <td>571167</td>\n",
       "      <td>2019-03-17</td>\n",
       "      <td>0</td>\n",
       "      <td>2019-03-17 00:00:00</td>\n",
       "    </tr>\n",
       "    <tr>\n",
       "      <th>2509</th>\n",
       "      <td>15</td>\n",
       "      <td>1173294</td>\n",
       "      <td>2019-02-02</td>\n",
       "      <td>0</td>\n",
       "      <td>2019-02-02 00:00:00</td>\n",
       "    </tr>\n",
       "    <tr>\n",
       "      <th>2510</th>\n",
       "      <td>19</td>\n",
       "      <td>662204</td>\n",
       "      <td>2019-03-07</td>\n",
       "      <td>0</td>\n",
       "      <td>2019-03-07 00:00:00</td>\n",
       "    </tr>\n",
       "  </tbody>\n",
       "</table>\n",
       "</div>"
      ],
      "text/plain": [
       "      user_id  picture_id        day  user_day_ordinal           pseudo_ts\n",
       "2515        0      361219 2019-03-05                 0 2019-03-05 00:00:00\n",
       "2516        0      179639 2019-03-05                 1 2019-03-05 08:00:00\n",
       "2517        0      222809 2019-03-05                 2 2019-03-05 16:00:00\n",
       "2514        7     1141076 2019-02-13                 0 2019-02-13 00:00:00\n",
       "2505       12      134491 2019-02-09                 0 2019-02-09 00:00:00\n",
       "2506       13      691209 2019-02-14                 0 2019-02-14 00:00:00\n",
       "2507       13      384307 2019-02-14                 1 2019-02-14 12:00:00\n",
       "2508       14      571167 2019-03-17                 0 2019-03-17 00:00:00\n",
       "2509       15     1173294 2019-02-02                 0 2019-02-02 00:00:00\n",
       "2510       19      662204 2019-03-07                 0 2019-03-07 00:00:00"
      ]
     },
     "execution_count": 154,
     "metadata": {},
     "output_type": "execute_result"
    }
   ],
   "source": [
    "raw_data_likes['user_day_ordinal'] = get_user_day_ordinal(raw_data_likes)\n",
    "raw_data_likes['pseudo_ts'] = get_pseudo_ts(raw_data_likes)\n",
    "raw_data_likes.sort_values(['user_id', 'day']).head(10)"
   ]
  },
  {
   "cell_type": "code",
   "execution_count": 187,
   "metadata": {},
   "outputs": [],
   "source": [
    "raw_data_likes.to_hdf(os.path.join(DATA_PATH, 'step0_likes.h5'), index=None, key='step0')"
   ]
  },
  {
   "cell_type": "code",
   "execution_count": 175,
   "metadata": {},
   "outputs": [
    {
     "data": {
      "text/plain": [
       "True"
      ]
     },
     "execution_count": 175,
     "metadata": {},
     "output_type": "execute_result"
    }
   ],
   "source": [
    "all(new_raw_data_likes == raw_data_likes)"
   ]
  },
  {
   "cell_type": "markdown",
   "metadata": {},
   "source": [
    "##### Clicks"
   ]
  },
  {
   "cell_type": "code",
   "execution_count": 151,
   "metadata": {},
   "outputs": [
    {
     "data": {
      "text/html": [
       "<div>\n",
       "<style scoped>\n",
       "    .dataframe tbody tr th:only-of-type {\n",
       "        vertical-align: middle;\n",
       "    }\n",
       "\n",
       "    .dataframe tbody tr th {\n",
       "        vertical-align: top;\n",
       "    }\n",
       "\n",
       "    .dataframe thead th {\n",
       "        text-align: right;\n",
       "    }\n",
       "</style>\n",
       "<table border=\"1\" class=\"dataframe\">\n",
       "  <thead>\n",
       "    <tr style=\"text-align: right;\">\n",
       "      <th></th>\n",
       "      <th>user_id</th>\n",
       "      <th>picture_id</th>\n",
       "      <th>day</th>\n",
       "    </tr>\n",
       "  </thead>\n",
       "  <tbody>\n",
       "    <tr>\n",
       "      <th>0</th>\n",
       "      <td>1442</td>\n",
       "      <td>546149</td>\n",
       "      <td>2019-02-09</td>\n",
       "    </tr>\n",
       "    <tr>\n",
       "      <th>1</th>\n",
       "      <td>1442</td>\n",
       "      <td>546149</td>\n",
       "      <td>2019-02-09</td>\n",
       "    </tr>\n",
       "    <tr>\n",
       "      <th>2</th>\n",
       "      <td>1442</td>\n",
       "      <td>1242875</td>\n",
       "      <td>2019-02-16</td>\n",
       "    </tr>\n",
       "    <tr>\n",
       "      <th>3</th>\n",
       "      <td>1442</td>\n",
       "      <td>1242875</td>\n",
       "      <td>2019-02-16</td>\n",
       "    </tr>\n",
       "    <tr>\n",
       "      <th>4</th>\n",
       "      <td>1442</td>\n",
       "      <td>1242891</td>\n",
       "      <td>2019-02-16</td>\n",
       "    </tr>\n",
       "  </tbody>\n",
       "</table>\n",
       "</div>"
      ],
      "text/plain": [
       "   user_id  picture_id        day\n",
       "0     1442      546149 2019-02-09\n",
       "1     1442      546149 2019-02-09\n",
       "2     1442     1242875 2019-02-16\n",
       "3     1442     1242875 2019-02-16\n",
       "4     1442     1242891 2019-02-16"
      ]
     },
     "execution_count": 151,
     "metadata": {},
     "output_type": "execute_result"
    }
   ],
   "source": [
    "raw_data_clicks = pd.read_csv(os.path.join(RAW_DATA_PATH, 'train_clicks.csv'))\n",
    "raw_data_clicks['day'] = pd.to_datetime(raw_data_clicks['day'])\n",
    "raw_data_clicks.head()"
   ]
  },
  {
   "cell_type": "code",
   "execution_count": 178,
   "metadata": {},
   "outputs": [
    {
     "data": {
      "text/html": [
       "<div>\n",
       "<style scoped>\n",
       "    .dataframe tbody tr th:only-of-type {\n",
       "        vertical-align: middle;\n",
       "    }\n",
       "\n",
       "    .dataframe tbody tr th {\n",
       "        vertical-align: top;\n",
       "    }\n",
       "\n",
       "    .dataframe thead th {\n",
       "        text-align: right;\n",
       "    }\n",
       "</style>\n",
       "<table border=\"1\" class=\"dataframe\">\n",
       "  <thead>\n",
       "    <tr style=\"text-align: right;\">\n",
       "      <th></th>\n",
       "      <th>user_id</th>\n",
       "      <th>picture_id</th>\n",
       "      <th>day</th>\n",
       "      <th>user_day_ordinal</th>\n",
       "      <th>pseudo_ts</th>\n",
       "    </tr>\n",
       "  </thead>\n",
       "  <tbody>\n",
       "    <tr>\n",
       "      <th>42076</th>\n",
       "      <td>0</td>\n",
       "      <td>222809</td>\n",
       "      <td>2019-03-05</td>\n",
       "      <td>0</td>\n",
       "      <td>2019-03-05 00:00:00</td>\n",
       "    </tr>\n",
       "    <tr>\n",
       "      <th>42077</th>\n",
       "      <td>0</td>\n",
       "      <td>204858</td>\n",
       "      <td>2019-03-05</td>\n",
       "      <td>1</td>\n",
       "      <td>2019-03-05 04:00:00</td>\n",
       "    </tr>\n",
       "    <tr>\n",
       "      <th>42078</th>\n",
       "      <td>0</td>\n",
       "      <td>216014</td>\n",
       "      <td>2019-03-05</td>\n",
       "      <td>2</td>\n",
       "      <td>2019-03-05 08:00:00</td>\n",
       "    </tr>\n",
       "    <tr>\n",
       "      <th>42079</th>\n",
       "      <td>0</td>\n",
       "      <td>323106</td>\n",
       "      <td>2019-03-05</td>\n",
       "      <td>3</td>\n",
       "      <td>2019-03-05 12:00:00</td>\n",
       "    </tr>\n",
       "    <tr>\n",
       "      <th>42080</th>\n",
       "      <td>0</td>\n",
       "      <td>177075</td>\n",
       "      <td>2019-03-05</td>\n",
       "      <td>4</td>\n",
       "      <td>2019-03-05 16:00:00</td>\n",
       "    </tr>\n",
       "    <tr>\n",
       "      <th>42081</th>\n",
       "      <td>0</td>\n",
       "      <td>958096</td>\n",
       "      <td>2019-03-05</td>\n",
       "      <td>5</td>\n",
       "      <td>2019-03-05 20:00:00</td>\n",
       "    </tr>\n",
       "    <tr>\n",
       "      <th>42072</th>\n",
       "      <td>0</td>\n",
       "      <td>50605</td>\n",
       "      <td>2019-02-07</td>\n",
       "      <td>0</td>\n",
       "      <td>2019-02-07 00:00:00</td>\n",
       "    </tr>\n",
       "    <tr>\n",
       "      <th>42073</th>\n",
       "      <td>0</td>\n",
       "      <td>1194764</td>\n",
       "      <td>2019-02-07</td>\n",
       "      <td>1</td>\n",
       "      <td>2019-02-07 06:00:00</td>\n",
       "    </tr>\n",
       "    <tr>\n",
       "      <th>42074</th>\n",
       "      <td>0</td>\n",
       "      <td>210328</td>\n",
       "      <td>2019-02-07</td>\n",
       "      <td>2</td>\n",
       "      <td>2019-02-07 12:00:00</td>\n",
       "    </tr>\n",
       "    <tr>\n",
       "      <th>42075</th>\n",
       "      <td>0</td>\n",
       "      <td>280717</td>\n",
       "      <td>2019-02-07</td>\n",
       "      <td>3</td>\n",
       "      <td>2019-02-07 18:00:00</td>\n",
       "    </tr>\n",
       "  </tbody>\n",
       "</table>\n",
       "</div>"
      ],
      "text/plain": [
       "       user_id  picture_id        day  user_day_ordinal           pseudo_ts\n",
       "42076        0      222809 2019-03-05                 0 2019-03-05 00:00:00\n",
       "42077        0      204858 2019-03-05                 1 2019-03-05 04:00:00\n",
       "42078        0      216014 2019-03-05                 2 2019-03-05 08:00:00\n",
       "42079        0      323106 2019-03-05                 3 2019-03-05 12:00:00\n",
       "42080        0      177075 2019-03-05                 4 2019-03-05 16:00:00\n",
       "42081        0      958096 2019-03-05                 5 2019-03-05 20:00:00\n",
       "42072        0       50605 2019-02-07                 0 2019-02-07 00:00:00\n",
       "42073        0     1194764 2019-02-07                 1 2019-02-07 06:00:00\n",
       "42074        0      210328 2019-02-07                 2 2019-02-07 12:00:00\n",
       "42075        0      280717 2019-02-07                 3 2019-02-07 18:00:00"
      ]
     },
     "execution_count": 178,
     "metadata": {},
     "output_type": "execute_result"
    }
   ],
   "source": [
    "raw_data_clicks['user_day_ordinal'] = get_user_day_ordinal(raw_data_clicks)\n",
    "raw_data_clicks['pseudo_ts'] = get_pseudo_ts(raw_data_clicks)\n",
    "raw_data_clicks.sort_values(['user_id', 'day'], ascending=False).tail(10)"
   ]
  },
  {
   "cell_type": "code",
   "execution_count": 179,
   "metadata": {},
   "outputs": [],
   "source": [
    "raw_data_clicks.to_hdf(os.path.join(DATA_PATH, 'step0_clicks.h5'), index=None, key='step0')"
   ]
  },
  {
   "cell_type": "markdown",
   "metadata": {},
   "source": [
    "##### Shares"
   ]
  },
  {
   "cell_type": "code",
   "execution_count": 157,
   "metadata": {},
   "outputs": [
    {
     "data": {
      "text/html": [
       "<div>\n",
       "<style scoped>\n",
       "    .dataframe tbody tr th:only-of-type {\n",
       "        vertical-align: middle;\n",
       "    }\n",
       "\n",
       "    .dataframe tbody tr th {\n",
       "        vertical-align: top;\n",
       "    }\n",
       "\n",
       "    .dataframe thead th {\n",
       "        text-align: right;\n",
       "    }\n",
       "</style>\n",
       "<table border=\"1\" class=\"dataframe\">\n",
       "  <thead>\n",
       "    <tr style=\"text-align: right;\">\n",
       "      <th></th>\n",
       "      <th>user_id</th>\n",
       "      <th>picture_id</th>\n",
       "      <th>day</th>\n",
       "    </tr>\n",
       "  </thead>\n",
       "  <tbody>\n",
       "    <tr>\n",
       "      <th>0</th>\n",
       "      <td>24986</td>\n",
       "      <td>216354</td>\n",
       "      <td>2019-02-15</td>\n",
       "    </tr>\n",
       "    <tr>\n",
       "      <th>1</th>\n",
       "      <td>25046</td>\n",
       "      <td>514369</td>\n",
       "      <td>2019-03-08</td>\n",
       "    </tr>\n",
       "    <tr>\n",
       "      <th>2</th>\n",
       "      <td>25058</td>\n",
       "      <td>1066857</td>\n",
       "      <td>2019-02-05</td>\n",
       "    </tr>\n",
       "    <tr>\n",
       "      <th>3</th>\n",
       "      <td>25058</td>\n",
       "      <td>481307</td>\n",
       "      <td>2019-02-05</td>\n",
       "    </tr>\n",
       "    <tr>\n",
       "      <th>4</th>\n",
       "      <td>25058</td>\n",
       "      <td>636884</td>\n",
       "      <td>2019-02-05</td>\n",
       "    </tr>\n",
       "  </tbody>\n",
       "</table>\n",
       "</div>"
      ],
      "text/plain": [
       "   user_id  picture_id        day\n",
       "0    24986      216354 2019-02-15\n",
       "1    25046      514369 2019-03-08\n",
       "2    25058     1066857 2019-02-05\n",
       "3    25058      481307 2019-02-05\n",
       "4    25058      636884 2019-02-05"
      ]
     },
     "execution_count": 157,
     "metadata": {},
     "output_type": "execute_result"
    }
   ],
   "source": [
    "raw_data_shares = pd.read_csv(os.path.join(RAW_DATA_PATH, 'train_shares.csv'))\n",
    "raw_data_shares['day'] = pd.to_datetime(raw_data_shares['day'])\n",
    "raw_data_shares.head()"
   ]
  },
  {
   "cell_type": "code",
   "execution_count": 158,
   "metadata": {},
   "outputs": [
    {
     "data": {
      "text/html": [
       "<div>\n",
       "<style scoped>\n",
       "    .dataframe tbody tr th:only-of-type {\n",
       "        vertical-align: middle;\n",
       "    }\n",
       "\n",
       "    .dataframe tbody tr th {\n",
       "        vertical-align: top;\n",
       "    }\n",
       "\n",
       "    .dataframe thead th {\n",
       "        text-align: right;\n",
       "    }\n",
       "</style>\n",
       "<table border=\"1\" class=\"dataframe\">\n",
       "  <thead>\n",
       "    <tr style=\"text-align: right;\">\n",
       "      <th></th>\n",
       "      <th>user_id</th>\n",
       "      <th>picture_id</th>\n",
       "      <th>day</th>\n",
       "      <th>user_day_ordinal</th>\n",
       "      <th>pseudo_ts</th>\n",
       "    </tr>\n",
       "  </thead>\n",
       "  <tbody>\n",
       "    <tr>\n",
       "      <th>47609</th>\n",
       "      <td>317713</td>\n",
       "      <td>467313</td>\n",
       "      <td>2019-03-21</td>\n",
       "      <td>1</td>\n",
       "      <td>2019-03-21 12:00:00</td>\n",
       "    </tr>\n",
       "    <tr>\n",
       "      <th>47605</th>\n",
       "      <td>337088</td>\n",
       "      <td>1380260</td>\n",
       "      <td>2019-03-03</td>\n",
       "      <td>0</td>\n",
       "      <td>2019-03-03 00:00:00</td>\n",
       "    </tr>\n",
       "    <tr>\n",
       "      <th>47610</th>\n",
       "      <td>342704</td>\n",
       "      <td>1482510</td>\n",
       "      <td>2019-03-20</td>\n",
       "      <td>0</td>\n",
       "      <td>2019-03-20 00:00:00</td>\n",
       "    </tr>\n",
       "    <tr>\n",
       "      <th>15680</th>\n",
       "      <td>430530</td>\n",
       "      <td>1353981</td>\n",
       "      <td>2019-02-26</td>\n",
       "      <td>0</td>\n",
       "      <td>2019-02-26 00:00:00</td>\n",
       "    </tr>\n",
       "    <tr>\n",
       "      <th>15681</th>\n",
       "      <td>430530</td>\n",
       "      <td>1356754</td>\n",
       "      <td>2019-02-26</td>\n",
       "      <td>1</td>\n",
       "      <td>2019-02-26 12:00:00</td>\n",
       "    </tr>\n",
       "    <tr>\n",
       "      <th>47611</th>\n",
       "      <td>456535</td>\n",
       "      <td>1451478</td>\n",
       "      <td>2019-03-08</td>\n",
       "      <td>0</td>\n",
       "      <td>2019-03-08 00:00:00</td>\n",
       "    </tr>\n",
       "    <tr>\n",
       "      <th>47612</th>\n",
       "      <td>482539</td>\n",
       "      <td>1431927</td>\n",
       "      <td>2019-03-14</td>\n",
       "      <td>0</td>\n",
       "      <td>2019-03-14 00:00:00</td>\n",
       "    </tr>\n",
       "    <tr>\n",
       "      <th>47613</th>\n",
       "      <td>482539</td>\n",
       "      <td>1431927</td>\n",
       "      <td>2019-03-14</td>\n",
       "      <td>1</td>\n",
       "      <td>2019-03-14 06:00:00</td>\n",
       "    </tr>\n",
       "    <tr>\n",
       "      <th>47614</th>\n",
       "      <td>482539</td>\n",
       "      <td>1431927</td>\n",
       "      <td>2019-03-14</td>\n",
       "      <td>2</td>\n",
       "      <td>2019-03-14 12:00:00</td>\n",
       "    </tr>\n",
       "    <tr>\n",
       "      <th>47615</th>\n",
       "      <td>482539</td>\n",
       "      <td>1431927</td>\n",
       "      <td>2019-03-14</td>\n",
       "      <td>3</td>\n",
       "      <td>2019-03-14 18:00:00</td>\n",
       "    </tr>\n",
       "  </tbody>\n",
       "</table>\n",
       "</div>"
      ],
      "text/plain": [
       "       user_id  picture_id        day  user_day_ordinal           pseudo_ts\n",
       "47609   317713      467313 2019-03-21                 1 2019-03-21 12:00:00\n",
       "47605   337088     1380260 2019-03-03                 0 2019-03-03 00:00:00\n",
       "47610   342704     1482510 2019-03-20                 0 2019-03-20 00:00:00\n",
       "15680   430530     1353981 2019-02-26                 0 2019-02-26 00:00:00\n",
       "15681   430530     1356754 2019-02-26                 1 2019-02-26 12:00:00\n",
       "47611   456535     1451478 2019-03-08                 0 2019-03-08 00:00:00\n",
       "47612   482539     1431927 2019-03-14                 0 2019-03-14 00:00:00\n",
       "47613   482539     1431927 2019-03-14                 1 2019-03-14 06:00:00\n",
       "47614   482539     1431927 2019-03-14                 2 2019-03-14 12:00:00\n",
       "47615   482539     1431927 2019-03-14                 3 2019-03-14 18:00:00"
      ]
     },
     "execution_count": 158,
     "metadata": {},
     "output_type": "execute_result"
    }
   ],
   "source": [
    "raw_data_shares['user_day_ordinal'] = get_user_day_ordinal(raw_data_shares)\n",
    "raw_data_shares['pseudo_ts'] = get_pseudo_ts(raw_data_shares)\n",
    "raw_data_shares.sort_values(['user_id', 'day']).tail(10)"
   ]
  },
  {
   "cell_type": "code",
   "execution_count": 180,
   "metadata": {},
   "outputs": [],
   "source": [
    "raw_data_shares.to_hdf(os.path.join(DATA_PATH, 'step0_shares.h5'), index=None, key='step0')"
   ]
  },
  {
   "cell_type": "markdown",
   "metadata": {},
   "source": [
    "##### test_users"
   ]
  },
  {
   "cell_type": "code",
   "execution_count": 159,
   "metadata": {},
   "outputs": [
    {
     "data": {
      "text/html": [
       "<div>\n",
       "<style scoped>\n",
       "    .dataframe tbody tr th:only-of-type {\n",
       "        vertical-align: middle;\n",
       "    }\n",
       "\n",
       "    .dataframe tbody tr th {\n",
       "        vertical-align: top;\n",
       "    }\n",
       "\n",
       "    .dataframe thead th {\n",
       "        text-align: right;\n",
       "    }\n",
       "</style>\n",
       "<table border=\"1\" class=\"dataframe\">\n",
       "  <thead>\n",
       "    <tr style=\"text-align: right;\">\n",
       "      <th></th>\n",
       "      <th>user_id</th>\n",
       "    </tr>\n",
       "  </thead>\n",
       "  <tbody>\n",
       "    <tr>\n",
       "      <th>0</th>\n",
       "      <td>103</td>\n",
       "    </tr>\n",
       "    <tr>\n",
       "      <th>1</th>\n",
       "      <td>178</td>\n",
       "    </tr>\n",
       "    <tr>\n",
       "      <th>2</th>\n",
       "      <td>1069</td>\n",
       "    </tr>\n",
       "    <tr>\n",
       "      <th>3</th>\n",
       "      <td>1310</td>\n",
       "    </tr>\n",
       "    <tr>\n",
       "      <th>4</th>\n",
       "      <td>2108</td>\n",
       "    </tr>\n",
       "  </tbody>\n",
       "</table>\n",
       "</div>"
      ],
      "text/plain": [
       "   user_id\n",
       "0      103\n",
       "1      178\n",
       "2     1069\n",
       "3     1310\n",
       "4     2108"
      ]
     },
     "execution_count": 159,
     "metadata": {},
     "output_type": "execute_result"
    }
   ],
   "source": [
    "test_users = pd.read_csv(os.path.join(RAW_DATA_PATH, 'test_users.csv'))\n",
    "test_users.head()"
   ]
  },
  {
   "cell_type": "markdown",
   "metadata": {},
   "source": [
    "# Mapping"
   ]
  },
  {
   "cell_type": "markdown",
   "metadata": {},
   "source": [
    "##### User"
   ]
  },
  {
   "cell_type": "code",
   "execution_count": 199,
   "metadata": {},
   "outputs": [],
   "source": [
    "# user mapping\n",
    "all_user_ids = np.sort(np.unique(\n",
    "    raw_data_likes['user_id'].unique().tolist() +\n",
    "    raw_data_clicks['user_id'].unique().tolist() +\n",
    "    raw_data_shares['user_id'].unique().tolist() +\n",
    "    test_users['user_id'].unique().tolist()\n",
    "))\n",
    "\n",
    "user_mapping = pd.DataFrame({'old': all_user_ids, 'new': np.arange(len(all_user_ids))})"
   ]
  },
  {
   "cell_type": "code",
   "execution_count": 201,
   "metadata": {},
   "outputs": [],
   "source": [
    "user_mapping.to_csv(os.path.join(DATA_PATH, 'step0_user_mapping.csv'), index=False)"
   ]
  },
  {
   "cell_type": "markdown",
   "metadata": {},
   "source": [
    "##### Pic"
   ]
  },
  {
   "cell_type": "code",
   "execution_count": 198,
   "metadata": {},
   "outputs": [],
   "source": [
    "# picture mapping\n",
    "all_picture_ids = np.sort(np.unique(\n",
    "    raw_data_likes['picture_id'].unique().tolist() +\n",
    "    raw_data_clicks['picture_id'].unique().tolist() +\n",
    "    raw_data_shares['picture_id'].unique().tolist() +\n",
    "    raw_picture_descriptions['picture_id'].unique().tolist()\n",
    "))\n",
    "\n",
    "picture_mapping = pd.DataFrame({'old': all_picture_ids, 'new': np.arange(len(all_picture_ids))})"
   ]
  },
  {
   "cell_type": "code",
   "execution_count": 205,
   "metadata": {},
   "outputs": [
    {
     "data": {
      "text/plain": [
       "1379875"
      ]
     },
     "execution_count": 205,
     "metadata": {},
     "output_type": "execute_result"
    }
   ],
   "source": [
    "len(set(raw_picture_descriptions['picture_id'].unique().tolist()) & set(picture_mapping['old'].unique().tolist()))"
   ]
  },
  {
   "cell_type": "code",
   "execution_count": 206,
   "metadata": {},
   "outputs": [],
   "source": [
    "picture_mapping.to_csv(os.path.join(DATA_PATH, 'step0_picture_mapping.csv'), index=False)"
   ]
  },
  {
   "cell_type": "markdown",
   "metadata": {},
   "source": [
    "# Descriptions"
   ]
  },
  {
   "cell_type": "code",
   "execution_count": 14,
   "metadata": {},
   "outputs": [
    {
     "data": {
      "text/html": [
       "<div>\n",
       "<style scoped>\n",
       "    .dataframe tbody tr th:only-of-type {\n",
       "        vertical-align: middle;\n",
       "    }\n",
       "\n",
       "    .dataframe tbody tr th {\n",
       "        vertical-align: top;\n",
       "    }\n",
       "\n",
       "    .dataframe thead th {\n",
       "        text-align: right;\n",
       "    }\n",
       "</style>\n",
       "<table border=\"1\" class=\"dataframe\">\n",
       "  <thead>\n",
       "    <tr style=\"text-align: right;\">\n",
       "      <th></th>\n",
       "      <th>picture_id</th>\n",
       "      <th>description</th>\n",
       "    </tr>\n",
       "  </thead>\n",
       "  <tbody>\n",
       "    <tr>\n",
       "      <th>0</th>\n",
       "      <td>1171496</td>\n",
       "      <td>734475 487260 884706 5941 48255 147285 969800</td>\n",
       "    </tr>\n",
       "    <tr>\n",
       "      <th>1</th>\n",
       "      <td>1171497</td>\n",
       "      <td>488295 261184 466630 235887 642445 465419 9297...</td>\n",
       "    </tr>\n",
       "    <tr>\n",
       "      <th>2</th>\n",
       "      <td>1171498</td>\n",
       "      <td>724435 1003828 164020</td>\n",
       "    </tr>\n",
       "    <tr>\n",
       "      <th>3</th>\n",
       "      <td>1171499</td>\n",
       "      <td>274351 96637 259690 590856 761704 148158 16580...</td>\n",
       "    </tr>\n",
       "    <tr>\n",
       "      <th>4</th>\n",
       "      <td>1171500</td>\n",
       "      <td>235887 117104 952749 285126 288206</td>\n",
       "    </tr>\n",
       "  </tbody>\n",
       "</table>\n",
       "</div>"
      ],
      "text/plain": [
       "   picture_id                                        description\n",
       "0     1171496      734475 487260 884706 5941 48255 147285 969800\n",
       "1     1171497  488295 261184 466630 235887 642445 465419 9297...\n",
       "2     1171498                              724435 1003828 164020\n",
       "3     1171499  274351 96637 259690 590856 761704 148158 16580...\n",
       "4     1171500                 235887 117104 952749 285126 288206"
      ]
     },
     "execution_count": 14,
     "metadata": {},
     "output_type": "execute_result"
    }
   ],
   "source": [
    "raw_picture_descriptions = pd.read_csv(os.path.join(RAW_DATA_PATH, 'descriptions.csv'))\n",
    "raw_picture_descriptions.head()"
   ]
  },
  {
   "cell_type": "code",
   "execution_count": 15,
   "metadata": {},
   "outputs": [],
   "source": [
    "# attribute mapping\n",
    "pictures = []\n",
    "descs = []\n",
    "for picture_id, picture_descs in raw_picture_descriptions[['picture_id', 'description']].values:\n",
    "    pictures += np.repeat([picture_id], repeats=len(picture_descs)).tolist()\n",
    "    descs += picture_descs"
   ]
  },
  {
   "cell_type": "code",
   "execution_count": 16,
   "metadata": {},
   "outputs": [],
   "source": [
    "picture_descs_df = pd.DataFrame({'picture_id': pictures, 'description_uid': descs})\n",
    "\n",
    "grouper_attr = picture_descs_df.groupby('description_uid').grouper\n",
    "desc_mapping = pd.DataFrame({'new': grouper_attr.group_info[1], 'old': grouper_attr.levels[0]})"
   ]
  },
  {
   "cell_type": "code",
   "execution_count": 182,
   "metadata": {},
   "outputs": [],
   "source": [
    "desc_mapping.to_csv(os.path.join(DATA_PATH, 'desc_mapping.csv'), index=False)"
   ]
  },
  {
   "cell_type": "code",
   "execution_count": null,
   "metadata": {},
   "outputs": [],
   "source": []
  },
  {
   "cell_type": "code",
   "execution_count": 188,
   "metadata": {},
   "outputs": [
    {
     "name": "stdout",
     "output_type": "stream",
     "text": [
      "total 145M\r\n",
      "drwxrwxrwx 1 root root  424 Jun  1 11:28 .\r\n",
      "drwxrwxrwx 1 root root 4.0K Jun  1 11:28 ..\r\n",
      "-rwxrwxrwx 1 root root   53 Jun  1 11:12 desc_mapping.csv\r\n",
      "-rwxrwxrwx 1 root root 109M Jun  1 11:11 step0_clicks.h5\r\n",
      "-rwxrwxrwx 1 root root  15M Jun  1 11:28 step0_likes.h5\r\n",
      "-rwxrwxrwx 1 root root 2.3M Jun  1 11:11 step0_shares.h5\r\n",
      "-rwxrwxrwx 1 root root  15M Jun  1 11:09 step0_train_likes.h5\r\n",
      "-rwxrwxrwx 1 root root 5.8M Jun  1 11:12 user_mapping.csv\r\n"
     ]
    }
   ],
   "source": [
    "!ls -alh data/"
   ]
  }
 ],
 "metadata": {
  "kernelspec": {
   "display_name": "Python 3",
   "language": "python",
   "name": "python3"
  },
  "language_info": {
   "codemirror_mode": {
    "name": "ipython",
    "version": 3
   },
   "file_extension": ".py",
   "mimetype": "text/x-python",
   "name": "python",
   "nbconvert_exporter": "python",
   "pygments_lexer": "ipython3",
   "version": "3.5.2"
  }
 },
 "nbformat": 4,
 "nbformat_minor": 2
}
