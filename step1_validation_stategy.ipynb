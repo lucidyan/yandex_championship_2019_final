{
 "cells": [
  {
   "cell_type": "code",
   "execution_count": null,
   "metadata": {},
   "outputs": [],
   "source": [
    "# !pip install --user statsmodels"
   ]
  },
  {
   "cell_type": "code",
   "execution_count": 221,
   "metadata": {},
   "outputs": [],
   "source": [
    "import os\n",
    "\n",
    "import numpy as np\n",
    "import pandas as pd\n",
    "\n",
    "RAW_DATA_PATH = './raw_data/'\n",
    "DATA_PATH = './data'\n",
    "VAL_SIZE = 0.1\n",
    "RANDOM_STATE = 42"
   ]
  },
  {
   "cell_type": "code",
   "execution_count": 14,
   "metadata": {},
   "outputs": [],
   "source": [
    "test_users = pd.read_csv(os.path.join(RAW_DATA_PATH, 'test_users.csv'))"
   ]
  },
  {
   "cell_type": "code",
   "execution_count": 2,
   "metadata": {},
   "outputs": [],
   "source": [
    "data_clicks = pd.read_hdf(os.path.join(DATA_PATH, 'step0_clicks.h5'), index=None, key='step0')\n",
    "data_likes = pd.read_hdf(os.path.join(DATA_PATH, 'step0_likes.h5'), index=None, key='step0')\n",
    "data_shares = pd.read_hdf(os.path.join(DATA_PATH, 'step0_shares.h5'), index=None, key='step0')"
   ]
  },
  {
   "cell_type": "markdown",
   "metadata": {},
   "source": [
    "# Первичный Train/Val split (по времени)"
   ]
  },
  {
   "cell_type": "code",
   "execution_count": 5,
   "metadata": {},
   "outputs": [],
   "source": [
    "clicks_day_percentage = data_clicks[['day']]\n",
    "clicks_day_percentage.loc[:, 'percentage'] = (\n",
    "    clicks_day_percentage['day'].rank() / clicks_day_percentage['day'].rank().max()\n",
    ")\n",
    "\n",
    "def split_train_val(df, clicks_day_percentage, val_size):\n",
    "    train_days = clicks_day_percentage[clicks_day_percentage['percentage'] < (1 - val_size)]['day'].unique()\n",
    "    train = df[df['day'].isin(train_days)]\n",
    "    \n",
    "    val_days = clicks_day_percentage[clicks_day_percentage['percentage'] >= (1 - val_size)]['day'].unique()\n",
    "    val = df[df['day'].isin(val_days)]\n",
    "    \n",
    "    print(train.shape, val.shape)\n",
    "    print()\n",
    "    \n",
    "    return train, val"
   ]
  },
  {
   "cell_type": "code",
   "execution_count": 6,
   "metadata": {},
   "outputs": [
    {
     "name": "stdout",
     "output_type": "stream",
     "text": [
      "(2110342, 5) (250520, 5)\n",
      "\n",
      "(272389, 5) (36033, 5)\n",
      "\n",
      "(44156, 5) (3711, 5)\n",
      "\n"
     ]
    }
   ],
   "source": [
    "train_clicks, val_clicks = split_train_val(data_clicks, clicks_day_percentage, val_size=VAL_SIZE)\n",
    "train_likes, _ = split_train_val(data_likes, clicks_day_percentage, val_size=VAL_SIZE)\n",
    "train_shares, _ = split_train_val(data_shares, clicks_day_percentage, val_size=VAL_SIZE)"
   ]
  },
  {
   "cell_type": "markdown",
   "metadata": {},
   "source": [
    "##### Фильтруем пользователей из валидации"
   ]
  },
  {
   "cell_type": "code",
   "execution_count": 13,
   "metadata": {},
   "outputs": [
    {
     "data": {
      "text/plain": [
       "(135692, 5)"
      ]
     },
     "execution_count": 13,
     "metadata": {},
     "output_type": "execute_result"
    }
   ],
   "source": [
    "train_users = (\n",
    "    set(train_clicks['user_id'].unique().tolist())\n",
    "    | set(train_likes['user_id'].unique().tolist())\n",
    "    | set(train_shares['user_id'].unique().tolist())\n",
    ")\n",
    "\n",
    "val_clicks_filtered = val_clicks[val_clicks['user_id'].isin(train_users)]\n",
    "val_clicks_filtered.shape"
   ]
  },
  {
   "cell_type": "code",
   "execution_count": 407,
   "metadata": {},
   "outputs": [],
   "source": [
    "val_clicks_filtered.to_hdf(os.path.join(DATA_PATH, 'step1_val_clicks.h5'), index=None, key='step1')\n",
    "val_clicks = val_clicks_filtered"
   ]
  },
  {
   "cell_type": "code",
   "execution_count": 455,
   "metadata": {},
   "outputs": [],
   "source": [
    "train_clicks.to_hdf(os.path.join(DATA_PATH, 'step1_train_clicks.h5'), index=None, key='step1')\n",
    "train_likes.to_hdf(os.path.join(DATA_PATH, 'step1_train_likes.h5'), index=None, key='step1')\n",
    "train_shares.to_hdf(os.path.join(DATA_PATH, 'step1_train_shares.h5'), index=None, key='step1')"
   ]
  },
  {
   "cell_type": "markdown",
   "metadata": {},
   "source": [
    "# Выбираем пользователей для валидации"
   ]
  },
  {
   "cell_type": "code",
   "execution_count": 408,
   "metadata": {},
   "outputs": [
    {
     "data": {
      "text/html": [
       "<div>\n",
       "<style scoped>\n",
       "    .dataframe tbody tr th:only-of-type {\n",
       "        vertical-align: middle;\n",
       "    }\n",
       "\n",
       "    .dataframe tbody tr th {\n",
       "        vertical-align: top;\n",
       "    }\n",
       "\n",
       "    .dataframe thead th {\n",
       "        text-align: right;\n",
       "    }\n",
       "</style>\n",
       "<table border=\"1\" class=\"dataframe\">\n",
       "  <thead>\n",
       "    <tr style=\"text-align: right;\">\n",
       "      <th></th>\n",
       "      <th>user_id</th>\n",
       "      <th>picture_id</th>\n",
       "      <th>day</th>\n",
       "      <th>user_day_ordinal</th>\n",
       "      <th>pseudo_ts</th>\n",
       "    </tr>\n",
       "  </thead>\n",
       "  <tbody>\n",
       "    <tr>\n",
       "      <th>0</th>\n",
       "      <td>103</td>\n",
       "      <td>1015062</td>\n",
       "      <td>2019-02-01</td>\n",
       "      <td>0</td>\n",
       "      <td>2019-02-01 00:00:00</td>\n",
       "    </tr>\n",
       "    <tr>\n",
       "      <th>1</th>\n",
       "      <td>103</td>\n",
       "      <td>643285</td>\n",
       "      <td>2019-02-01</td>\n",
       "      <td>1</td>\n",
       "      <td>2019-02-01 03:00:00</td>\n",
       "    </tr>\n",
       "    <tr>\n",
       "      <th>2</th>\n",
       "      <td>103</td>\n",
       "      <td>988094</td>\n",
       "      <td>2019-02-01</td>\n",
       "      <td>2</td>\n",
       "      <td>2019-02-01 06:00:00</td>\n",
       "    </tr>\n",
       "    <tr>\n",
       "      <th>3</th>\n",
       "      <td>103</td>\n",
       "      <td>664834</td>\n",
       "      <td>2019-02-01</td>\n",
       "      <td>3</td>\n",
       "      <td>2019-02-01 09:00:00</td>\n",
       "    </tr>\n",
       "    <tr>\n",
       "      <th>4</th>\n",
       "      <td>103</td>\n",
       "      <td>664834</td>\n",
       "      <td>2019-02-01</td>\n",
       "      <td>4</td>\n",
       "      <td>2019-02-01 12:00:00</td>\n",
       "    </tr>\n",
       "  </tbody>\n",
       "</table>\n",
       "</div>"
      ],
      "text/plain": [
       "   user_id  picture_id        day  user_day_ordinal           pseudo_ts\n",
       "0      103     1015062 2019-02-01                 0 2019-02-01 00:00:00\n",
       "1      103      643285 2019-02-01                 1 2019-02-01 03:00:00\n",
       "2      103      988094 2019-02-01                 2 2019-02-01 06:00:00\n",
       "3      103      664834 2019-02-01                 3 2019-02-01 09:00:00\n",
       "4      103      664834 2019-02-01                 4 2019-02-01 12:00:00"
      ]
     },
     "execution_count": 408,
     "metadata": {},
     "output_type": "execute_result"
    }
   ],
   "source": [
    "test_clicks = test_users.merge(data_clicks, on='user_id', how='left')\n",
    "test_clicks.head()"
   ]
  },
  {
   "cell_type": "code",
   "execution_count": 409,
   "metadata": {},
   "outputs": [],
   "source": [
    "test_clicks_cnt = (\n",
    "    test_clicks\n",
    "    .groupby('user_id')['picture_id']\n",
    "    .agg(['count'])\n",
    "    .reset_index()\n",
    "    .rename(columns={'count': 'pictures_cnt'})\n",
    ")\n",
    "test_clicks_cnt['pictures_cnt'] = test_clicks_cnt['pictures_cnt'] / test_clicks_cnt['pictures_cnt'].sum()"
   ]
  },
  {
   "cell_type": "code",
   "execution_count": null,
   "metadata": {},
   "outputs": [],
   "source": []
  },
  {
   "cell_type": "code",
   "execution_count": 410,
   "metadata": {
    "scrolled": true
   },
   "outputs": [
    {
     "data": {
      "text/plain": [
       "<matplotlib.axes._subplots.AxesSubplot at 0x7f2f17074780>"
      ]
     },
     "execution_count": 410,
     "metadata": {},
     "output_type": "execute_result"
    },
    {
     "data": {
      "image/png": "[encoded data removed]",
      "text/plain": [
       "<Figure size 432x288 with 1 Axes>"
      ]
     },
     "metadata": {
      "needs_background": "light"
     },
     "output_type": "display_data"
    }
   ],
   "source": [
    "%matplotlib inline\n",
    "test_clicks_cnt['pictures_cnt'].hist(log=True)"
   ]
  },
  {
   "cell_type": "markdown",
   "metadata": {},
   "source": [
    "### Подбираем подходящее распределение"
   ]
  },
  {
   "cell_type": "code",
   "execution_count": 411,
   "metadata": {},
   "outputs": [],
   "source": [
    "%matplotlib inline\n",
    "\n",
    "\n",
    "from tqdm.auto import tqdm\n",
    "\n",
    "import warnings\n",
    "import numpy as np\n",
    "import pandas as pd\n",
    "import scipy.stats as st\n",
    "import statsmodels as sm\n",
    "import matplotlib\n",
    "import matplotlib.pyplot as plt\n",
    "\n",
    "matplotlib.rcParams['figure.figsize'] = (16.0, 12.0)\n",
    "matplotlib.style.use('ggplot')\n",
    "\n",
    "# Create models from data\n",
    "def best_fit_distribution(data, bins=200, ax=None):\n",
    "    \"\"\"Model data by finding best fit distribution to data\"\"\"\n",
    "    # Get histogram of original data\n",
    "    y, x = np.histogram(data, bins=bins, density=True)\n",
    "    x = (x + np.roll(x, -1))[:-1] / 2.0\n",
    "\n",
    "    # Distributions to check\n",
    "    DISTRIBUTIONS = [        \n",
    "        st.alpha,st.anglit,st.arcsine,st.beta,st.betaprime,st.bradford,st.burr,st.cauchy,st.chi,st.chi2,st.cosine,\n",
    "        st.dgamma,st.dweibull,st.erlang,st.expon,st.exponnorm,st.exponweib,st.exponpow,st.f,st.fatiguelife,st.fisk,\n",
    "        st.foldcauchy,st.foldnorm,st.frechet_r,st.frechet_l,st.genlogistic,st.genpareto,st.gennorm,st.genexpon,\n",
    "        st.genextreme,st.gausshyper,st.gamma,st.gengamma,st.genhalflogistic,st.gilbrat,st.gompertz,st.gumbel_r,\n",
    "        st.gumbel_l,st.halfcauchy,st.halflogistic,st.halfnorm,st.halfgennorm,st.hypsecant,st.invgamma,st.invgauss,\n",
    "        st.invweibull,st.johnsonsb,st.johnsonsu,st.ksone,st.kstwobign,st.laplace,st.levy,st.levy_l,\n",
    "        st.logistic,st.loggamma,st.loglaplace,st.lognorm,st.lomax,st.maxwell,st.mielke,st.nakagami,st.ncx2,st.ncf,\n",
    "        st.nct,st.norm,st.pareto,st.pearson3,st.powerlaw,st.powerlognorm,st.powernorm,st.rdist,st.reciprocal,\n",
    "        st.rayleigh,st.rice,st.recipinvgauss,st.semicircular,st.t,st.triang,st.truncexpon,st.truncnorm,st.tukeylambda,\n",
    "        st.uniform,st.vonmises,st.vonmises_line,st.wald,st.weibull_min,st.weibull_max,st.wrapcauchy\n",
    "    ]\n",
    "\n",
    "    # Best holders\n",
    "    best_distribution = st.norm\n",
    "    best_params = (0.0, 1.0)\n",
    "    best_sse = np.inf\n",
    "\n",
    "    # Estimate distribution parameters from data\n",
    "    for distribution in tqdm(DISTRIBUTIONS):\n",
    "        print(distribution)\n",
    "\n",
    "        # Try to fit the distribution\n",
    "        try:\n",
    "            # Ignore warnings from data that can't be fit\n",
    "            with warnings.catch_warnings():\n",
    "                warnings.filterwarnings('ignore')\n",
    "\n",
    "                # fit dist to data\n",
    "                params = distribution.fit(data)\n",
    "\n",
    "                # Separate parts of parameters\n",
    "                arg = params[:-2]\n",
    "                loc = params[-2]\n",
    "                scale = params[-1]\n",
    "\n",
    "                # Calculate fitted PDF and error with fit in distribution\n",
    "                pdf = distribution.pdf(x, loc=loc, scale=scale, *arg)\n",
    "                sse = np.sum(np.power(y - pdf, 2.0))\n",
    "\n",
    "                # if axis pass in add to plot\n",
    "                try:\n",
    "                    if ax:\n",
    "                        pd.Series(pdf, x).plot(ax=ax)\n",
    "                    end\n",
    "                except Exception:\n",
    "                    pass\n",
    "\n",
    "                # identify if this distribution is better\n",
    "                if best_sse > sse > 0:\n",
    "                    best_distribution = distribution\n",
    "                    best_params = params\n",
    "                    best_sse = sse\n",
    "\n",
    "        except Exception:\n",
    "            pass\n",
    "\n",
    "    return (best_distribution.name, best_params)\n",
    "\n",
    "def make_pdf(dist, params, size=10000):\n",
    "    \"\"\"Generate distributions's Probability Distribution Function \"\"\"\n",
    "\n",
    "    # Separate parts of parameters\n",
    "    arg = params[:-2]\n",
    "    loc = params[-2]\n",
    "    scale = params[-1]\n",
    "\n",
    "    # Get sane start and end points of distribution\n",
    "    start = dist.ppf(0.01, *arg, loc=loc, scale=scale) if arg else dist.ppf(0.01, loc=loc, scale=scale)\n",
    "    end = dist.ppf(0.99, *arg, loc=loc, scale=scale) if arg else dist.ppf(0.99, loc=loc, scale=scale)\n",
    "\n",
    "    # Build PDF and turn into pandas Series\n",
    "    x = np.linspace(start, end, size)\n",
    "    y = dist.pdf(x, loc=loc, scale=scale, *arg)\n",
    "    pdf = pd.Series(y, x)\n",
    "\n",
    "    return pdf"
   ]
  },
  {
   "cell_type": "code",
   "execution_count": 412,
   "metadata": {},
   "outputs": [
    {
     "name": "stderr",
     "output_type": "stream",
     "text": [
      "/usr/local/lib/python3.5/dist-packages/matplotlib/axes/_axes.py:6521: MatplotlibDeprecationWarning: \n",
      "The 'normed' kwarg was deprecated in Matplotlib 2.1 and will be removed in 3.1. Use 'density' instead.\n",
      "  alternative=\"'density'\", removal=\"3.1\")\n"
     ]
    },
    {
     "data": {
      "image/png": "[encoded data removed]",
      "text/plain": [
       "<Figure size 864x576 with 1 Axes>"
      ]
     },
     "metadata": {},
     "output_type": "display_data"
    }
   ],
   "source": [
    "# Load data from statsmodels datasets\n",
    "# data = pd.Series(sm.datasets.elnino.load_pandas().data.set_index('YEAR').values.ravel())\n",
    "data = test_clicks_cnt['pictures_cnt']\n",
    "\n",
    "# Plot for comparison\n",
    "plt.figure(figsize=(12,8))\n",
    "ax = data.plot(kind='hist', bins=50, normed=True, alpha=0.5) #, color=plt.rcParams['axes.color_cycle'][1])\n",
    "# Save plot limits\n",
    "dataYLim = ax.get_ylim()"
   ]
  },
  {
   "cell_type": "code",
   "execution_count": 413,
   "metadata": {},
   "outputs": [
    {
     "data": {
      "application/vnd.jupyter.widget-view+json": {
       "model_id": "2117371532344ac3bdad2a22ffbdd234",
       "version_major": 2,
       "version_minor": 0
      },
      "text/plain": [
       "HBox(children=(IntProgress(value=0, max=88), HTML(value='')))"
      ]
     },
     "metadata": {},
     "output_type": "display_data"
    },
    {
     "name": "stdout",
     "output_type": "stream",
     "text": [
      "<scipy.stats._continuous_distns.alpha_gen object at 0x7f2f440694a8>\n",
      "<scipy.stats._continuous_distns.anglit_gen object at 0x7f2f44069780>\n",
      "<scipy.stats._continuous_distns.arcsine_gen object at 0x7f2f44069dd8>\n",
      "<scipy.stats._continuous_distns.beta_gen object at 0x7f2f44069cc0>\n",
      "<scipy.stats._continuous_distns.betaprime_gen object at 0x7f2f3c082080>\n",
      "<scipy.stats._continuous_distns.bradford_gen object at 0x7f2f3c0822b0>\n",
      "<scipy.stats._continuous_distns.burr_gen object at 0x7f2f3c082588>\n",
      "<scipy.stats._continuous_distns.cauchy_gen object at 0x7f2f3c082cf8>\n",
      "<scipy.stats._continuous_distns.chi_gen object at 0x7f2f3c0873c8>\n",
      "<scipy.stats._continuous_distns.chi2_gen object at 0x7f2f3c087240>\n",
      "<scipy.stats._continuous_distns.cosine_gen object at 0x7f2f3c0874a8>\n",
      "<scipy.stats._continuous_distns.dgamma_gen object at 0x7f2f3c087b00>\n",
      "<scipy.stats._continuous_distns.dweibull_gen object at 0x7f2f3c0879b0>\n",
      "<scipy.stats._continuous_distns.erlang_gen object at 0x7f2f3c0a9668>\n",
      "<scipy.stats._continuous_distns.expon_gen object at 0x7f2f3c087c18>\n",
      "<scipy.stats._continuous_distns.exponnorm_gen object at 0x7f2f3c087eb8>\n",
      "<scipy.stats._continuous_distns.exponweib_gen object at 0x7f2f3c093198>\n",
      "<scipy.stats._continuous_distns.exponpow_gen object at 0x7f2f3c093780>\n",
      "<scipy.stats._continuous_distns.f_gen object at 0x7f2f3c093b00>\n",
      "<scipy.stats._continuous_distns.fatiguelife_gen object at 0x7f2f3c093630>\n",
      "<scipy.stats._continuous_distns.fisk_gen object at 0x7f2f3c082a90>\n",
      "<scipy.stats._continuous_distns.foldcauchy_gen object at 0x7f2f3c093898>\n",
      "<scipy.stats._continuous_distns.foldnorm_gen object at 0x7f2f3c093d30>\n",
      "<scipy.stats._continuous_distns.frechet_r_gen object at 0x7f2f3c0984e0>\n",
      "<scipy.stats._continuous_distns.frechet_l_gen object at 0x7f2f3c098748>\n",
      "<scipy.stats._continuous_distns.genlogistic_gen object at 0x7f2f3c0989b0>\n",
      "<scipy.stats._continuous_distns.genpareto_gen object at 0x7f2f3c098c18>\n",
      "<scipy.stats._continuous_distns.gennorm_gen object at 0x7f2f3c05eb70>\n",
      "<scipy.stats._continuous_distns.genexpon_gen object at 0x7f2f3c098ef0>\n",
      "<scipy.stats._continuous_distns.genextreme_gen object at 0x7f2f3c0a94e0>\n",
      "<scipy.stats._continuous_distns.gausshyper_gen object at 0x7f2f3c0acfd0>\n",
      "<scipy.stats._continuous_distns.gamma_gen object at 0x7f2f3c0a9390>\n",
      "<scipy.stats._continuous_distns.gengamma_gen object at 0x7f2f3c0a9978>\n",
      "<scipy.stats._continuous_distns.genhalflogistic_gen object at 0x7f2f3c0a9fd0>\n",
      "<scipy.stats._continuous_distns.gilbrat_gen object at 0x7f2f3c044630>\n",
      "<scipy.stats._continuous_distns.gompertz_gen object at 0x7f2f3c0a9eb8>\n",
      "<scipy.stats._continuous_distns.gumbel_r_gen object at 0x7f2f3c0ac198>\n",
      "<scipy.stats._continuous_distns.gumbel_l_gen object at 0x7f2f3c0ac748>\n",
      "<scipy.stats._continuous_distns.halfcauchy_gen object at 0x7f2f3c0ac9b0>\n",
      "<scipy.stats._continuous_distns.halflogistic_gen object at 0x7f2f3c0acc18>\n",
      "<scipy.stats._continuous_distns.halfnorm_gen object at 0x7f2f3c0ace80>\n",
      "<scipy.stats._continuous_distns.halfgennorm_gen object at 0x7f2f3c05edd8>\n",
      "<scipy.stats._continuous_distns.hypsecant_gen object at 0x7f2f3c0acd30>\n",
      "<scipy.stats._continuous_distns.invgamma_gen object at 0x7f2f3c0b0588>\n",
      "<scipy.stats._continuous_distns.invgauss_gen object at 0x7f2f3c0b0470>\n",
      "<scipy.stats._continuous_distns.invweibull_gen object at 0x7f2f3c0b0940>\n",
      "<scipy.stats._continuous_distns.johnsonsb_gen object at 0x7f2f3c0b0be0>\n",
      "<scipy.stats._continuous_distns.johnsonsu_gen object at 0x7f2f3c0b0f28>\n",
      "<scipy.stats._continuous_distns.ksone_gen object at 0x7f2f4c041e80>\n",
      "<scipy.stats._continuous_distns.kstwobign_gen object at 0x7f2f440690b8>\n",
      "<scipy.stats._continuous_distns.laplace_gen object at 0x7f2f3c0ba518>\n",
      "<scipy.stats._continuous_distns.levy_gen object at 0x7f2f3c0ba780>\n",
      "<scipy.stats._continuous_distns.levy_l_gen object at 0x7f2f5f3b0cf8>\n",
      "<scipy.stats._continuous_distns.logistic_gen object at 0x7f2f3c0bafd0>\n",
      "<scipy.stats._continuous_distns.loggamma_gen object at 0x7f2f3c0baeb8>\n",
      "<scipy.stats._continuous_distns.loglaplace_gen object at 0x7f2f3c044198>\n",
      "<scipy.stats._continuous_distns.lognorm_gen object at 0x7f2f3c044390>\n",
      "<scipy.stats._continuous_distns.lomax_gen object at 0x7f2f3c0544a8>\n",
      "<scipy.stats._continuous_distns.maxwell_gen object at 0x7f2f3c044c50>\n",
      "<scipy.stats._continuous_distns.mielke_gen object at 0x7f2f3c044eb8>\n",
      "<scipy.stats._continuous_distns.nakagami_gen object at 0x7f2f3c045518>\n",
      "<scipy.stats._continuous_distns.ncx2_gen object at 0x7f2f3c0457b8>\n",
      "<scipy.stats._continuous_distns.ncf_gen object at 0x7f2f3c045a20>\n",
      "<scipy.stats._continuous_distns.nct_gen object at 0x7f2f3c045f28>\n",
      "<scipy.stats._continuous_distns.norm_gen object at 0x7f2f440696a0>\n",
      "<scipy.stats._continuous_distns.pareto_gen object at 0x7f2f3c054240>\n",
      "<scipy.stats._continuous_distns.pearson3_gen object at 0x7f2f3c0546d8>\n",
      "<scipy.stats._continuous_distns.powerlaw_gen object at 0x7f2f3c054978>\n",
      "<scipy.stats._continuous_distns.powerlognorm_gen object at 0x7f2f3c054be0>\n",
      "<scipy.stats._continuous_distns.powernorm_gen object at 0x7f2f3c054f28>\n",
      "<scipy.stats._continuous_distns.rdist_gen object at 0x7f2f3c058198>\n",
      "<scipy.stats._continuous_distns.reciprocal_gen object at 0x7f2f3c0589b0>\n",
      "<scipy.stats._continuous_distns.rayleigh_gen object at 0x7f2f3c058358>\n",
      "<scipy.stats._continuous_distns.rice_gen object at 0x7f2f3c058c50>\n",
      "<scipy.stats._continuous_distns.recipinvgauss_gen object at 0x7f2f3c058ac8>\n",
      "<scipy.stats._continuous_distns.semicircular_gen object at 0x7f2f3c058d68>\n",
      "<scipy.stats._continuous_distns.t_gen object at 0x7f2f3c045c50>\n",
      "<scipy.stats._continuous_distns.triang_gen object at 0x7f2f3c05f518>\n",
      "<scipy.stats._continuous_distns.truncexpon_gen object at 0x7f2f3c05f7b8>\n",
      "<scipy.stats._continuous_distns.truncnorm_gen object at 0x7f2f3c05fa20>\n",
      "<scipy.stats._continuous_distns.tukeylambda_gen object at 0x7f2f3c05fc88>\n",
      "<scipy.stats._continuous_distns.uniform_gen object at 0x7f2f3c05ff98>\n",
      "<scipy.stats._continuous_distns.vonmises_gen object at 0x7f2f3c05e5c0>\n",
      "<scipy.stats._continuous_distns.vonmises_gen object at 0x7f2f3c05e470>\n",
      "<scipy.stats._continuous_distns.wald_gen object at 0x7f2f3c05e6a0>\n",
      "<scipy.stats._continuous_distns.weibull_min_gen object at 0x7f2f3c098080>\n",
      "<scipy.stats._continuous_distns.weibull_max_gen object at 0x7f2f3c098278>\n",
      "<scipy.stats._continuous_distns.wrapcauchy_gen object at 0x7f2f3c05e860>\n"
     ]
    }
   ],
   "source": [
    "# Find best fit distribution\n",
    "best_fit_name, best_fit_params = best_fit_distribution(data, 200, ax)"
   ]
  },
  {
   "cell_type": "code",
   "execution_count": 414,
   "metadata": {},
   "outputs": [
    {
     "data": {
      "text/plain": [
       "<scipy.stats._continuous_distns.levy_gen at 0x7f2f3c0ba780>"
      ]
     },
     "execution_count": 414,
     "metadata": {},
     "output_type": "execute_result"
    }
   ],
   "source": [
    "best_dist = getattr(st, best_fit_name)\n",
    "best_dist"
   ]
  },
  {
   "cell_type": "code",
   "execution_count": 415,
   "metadata": {},
   "outputs": [
    {
     "name": "stderr",
     "output_type": "stream",
     "text": [
      "/usr/local/lib/python3.5/dist-packages/matplotlib/axes/_axes.py:6521: MatplotlibDeprecationWarning: \n",
      "The 'normed' kwarg was deprecated in Matplotlib 2.1 and will be removed in 3.1. Use 'density' instead.\n",
      "  alternative=\"'density'\", removal=\"3.1\")\n"
     ]
    },
    {
     "data": {
      "text/plain": [
       "Text(0, 0.5, 'Users count')"
      ]
     },
     "execution_count": 415,
     "metadata": {},
     "output_type": "execute_result"
    },
    {
     "data": {
      "image/png": "[encoded data removed]",
      "text/plain": [
       "<Figure size 864x576 with 1 Axes>"
      ]
     },
     "metadata": {},
     "output_type": "display_data"
    }
   ],
   "source": [
    "# Update plots\n",
    "ax.set_ylim(dataYLim)\n",
    "ax.set_title('All Fitted Distributions')\n",
    "ax.set_xlabel('Clicks')\n",
    "ax.set_ylabel('Users count')\n",
    "\n",
    "# Make PDF with best params \n",
    "pdf = make_pdf(best_dist, best_fit_params)\n",
    "\n",
    "# Display\n",
    "plt.figure(figsize=(12,8))\n",
    "# plt.xscale('log')\n",
    "# plt.yscale('log')\n",
    "ax = pdf.plot(lw=2, label='PDF', legend=True)\n",
    "data.plot(kind='hist', bins=50, normed=True, alpha=0.5, label='Data', legend=True, ax=ax)\n",
    "\n",
    "param_names = (best_dist.shapes + ', loc, scale').split(', ') if best_dist.shapes else ['loc', 'scale']\n",
    "param_str = ', '.join(['{}={:0.2f}'.format(k,v) for k,v in zip(param_names, best_fit_params)])\n",
    "dist_str = '{}({})'.format(best_fit_name, param_str)\n",
    "\n",
    "ax.set_title('Clicks with best fit distribution \\n' + dist_str)\n",
    "ax.set_xlabel('Clicks')\n",
    "ax.set_ylabel('Users count')"
   ]
  },
  {
   "cell_type": "code",
   "execution_count": 416,
   "metadata": {},
   "outputs": [
    {
     "data": {
      "text/plain": [
       "0.003425465358197081"
      ]
     },
     "execution_count": 416,
     "metadata": {},
     "output_type": "execute_result"
    }
   ],
   "source": [
    "arg = best_fit_params[:-2]\n",
    "loc = best_fit_params[-2]\n",
    "scale = best_fit_params[-1]\n",
    "\n",
    "from functools import partial\n",
    "\n",
    "bpdf = partial(best_dist.pdf, *arg, loc=loc, scale=scale)\n",
    "bpdf(1)"
   ]
  },
  {
   "cell_type": "markdown",
   "metadata": {},
   "source": [
    "### Фильтруем пользователей"
   ]
  },
  {
   "cell_type": "code",
   "execution_count": 417,
   "metadata": {},
   "outputs": [],
   "source": [
    "val_clicks_cnt = (\n",
    "    val_clicks\n",
    "    .groupby('user_id')['picture_id']\n",
    "    .agg(['count'])\n",
    "    .reset_index()\n",
    "    .rename(columns={'count': 'pictures_cnt'})\n",
    ")\n",
    "val_clicks_cnt['pictures_cnt'] = val_clicks_cnt['pictures_cnt'] / val_clicks_cnt['pictures_cnt'].sum()"
   ]
  },
  {
   "cell_type": "code",
   "execution_count": 418,
   "metadata": {},
   "outputs": [
    {
     "data": {
      "text/plain": [
       "<matplotlib.axes._subplots.AxesSubplot at 0x7f2f15e44710>"
      ]
     },
     "execution_count": 418,
     "metadata": {},
     "output_type": "execute_result"
    },
    {
     "data": {
      "image/png": "[encoded data removed]",
      "text/plain": [
       "<Figure size 432x288 with 1 Axes>"
      ]
     },
     "metadata": {
      "needs_background": "light"
     },
     "output_type": "display_data"
    }
   ],
   "source": [
    "%matplotlib inline\n",
    "val_clicks_cnt['pictures_cnt'].hist(log=True)"
   ]
  },
  {
   "cell_type": "code",
   "execution_count": 419,
   "metadata": {},
   "outputs": [],
   "source": [
    "val_clicks_cnt['prob_pictures_cnt'] = val_clicks_cnt['pictures_cnt'].apply(bpdf)"
   ]
  },
  {
   "cell_type": "markdown",
   "metadata": {},
   "source": [
    "# Делим пользователей для валидации"
   ]
  },
  {
   "cell_type": "code",
   "execution_count": 420,
   "metadata": {},
   "outputs": [],
   "source": [
    "val_clicks_cnt_freq = val_clicks_cnt['prob_pictures_cnt'].value_counts()\n",
    "val_clicks_cnt_freq = val_clicks_cnt_freq[val_clicks_cnt_freq >= 2]"
   ]
  },
  {
   "cell_type": "code",
   "execution_count": 421,
   "metadata": {},
   "outputs": [],
   "source": [
    "val_clicks_cnt_users_dict = val_clicks_cnt.groupby(['prob_pictures_cnt'])['user_id'].apply(list).to_dict()"
   ]
  },
  {
   "cell_type": "code",
   "execution_count": 422,
   "metadata": {},
   "outputs": [],
   "source": [
    "# good_users = [user for user in good_users if user not in test_users]\n",
    "# weights = np.array([val_holdout_cnt['sum'][user] for user in good_users])\n",
    "# weights = weights / np.sum(weights)\n",
    "\n",
    "# good_users = np.random.choice(\n",
    "#     good_users, \n",
    "#     size=min(len(good_users), int(users_cnt)), \n",
    "#     replace=False, \n",
    "#     p=weights\n",
    "# ).tolist()"
   ]
  },
  {
   "cell_type": "markdown",
   "metadata": {},
   "source": [
    "##### Пытаемся сгенерировать похожие на тест распределения для валидации"
   ]
  },
  {
   "cell_type": "code",
   "execution_count": 423,
   "metadata": {},
   "outputs": [
    {
     "data": {
      "text/plain": [
       "0"
      ]
     },
     "execution_count": 423,
     "metadata": {},
     "output_type": "execute_result"
    }
   ],
   "source": [
    "int(prob / val_clicks_cnt_freq.max() * users_cnt)"
   ]
  },
  {
   "cell_type": "code",
   "execution_count": null,
   "metadata": {},
   "outputs": [],
   "source": []
  },
  {
   "cell_type": "code",
   "execution_count": 424,
   "metadata": {},
   "outputs": [
    {
     "name": "stdout",
     "output_type": "stream",
     "text": [
      "7669 7154 0.7619351512398275\n",
      "3819 3819 0.8167580921539708\n",
      "2058 1940 0.7702631107164697\n",
      "1315 1123 0.6979059444980321\n",
      "919 703 0.62483676830188\n",
      "647 442 0.5586040656560336\n",
      "545 334 0.5007588706504967\n",
      "473 261 0.4508722591158883\n",
      "340 169 0.4079538716058669\n",
      "264 119 0.37095138317451043\n",
      "233 96 0.33891431936785943\n",
      "186 65 0.28663938922749554\n",
      "184 70 0.31103401757421845\n",
      "133 43 0.2651789438484063\n",
      "130 39 0.24620056605825402\n",
      "108 28 0.21427067017604864\n",
      "104 29 0.22933307533247835\n",
      "83 19 0.1885912771374767\n",
      "81 19 0.20076025446767473\n",
      "73 15 0.1775876414887697\n",
      "61 11 0.15019846048948512\n",
      "60 12 0.16760127302208783\n",
      "51 9 0.1585069990900336\n",
      "45 7 0.14258483383690715\n",
      "39 6 0.13558819181987303\n",
      "37 5 0.11767218465180387\n",
      "36 5 0.12914136673746637\n",
      "36 5 0.12318621265524114\n",
      "33 3 0.09535060470873605\n",
      "33 4 0.11255517148903268\n",
      "31 4 0.10779653180169746\n",
      "27 3 0.09922249252480678\n",
      "26 2 0.0851195555825126\n",
      "25 2 0.08831897650061953\n",
      "23 2 0.09172308702886102\n",
      "23 2 0.08210806661157312\n",
      "20 2 0.10336229452768694\n"
     ]
    }
   ],
   "source": [
    "np.random.seed(RANDOM_STATE)\n",
    "\n",
    "val_one_users = []\n",
    "val_two_users = []\n",
    "\n",
    "for prob, users_cnt in val_clicks_cnt_freq.iteritems():\n",
    "    p_users_cnt = int(prob / val_clicks_cnt_freq.index.max()   * users_cnt)\n",
    "    users_sample_cnt = int(p_users_cnt / 2)\n",
    "    \n",
    "    if users_sample_cnt < 1:\n",
    "        continue\n",
    "        \n",
    "    print(users_cnt, p_users_cnt, prob / val_clicks_cnt_freq.max())\n",
    "    \n",
    "    _users = val_clicks_cnt_users_dict[prob]\n",
    "    _selected_users = np.random.choice(\n",
    "        _users, \n",
    "        size=users_sample_cnt,\n",
    "        replace=False\n",
    "    )\n",
    "    val_one_users.extend(_selected_users)\n",
    "    \n",
    "    _users = list(set(_users) - set(_selected_users))\n",
    "    _selected_users = np.random.choice(\n",
    "        _users, \n",
    "        size=users_sample_cnt,\n",
    "        replace=False\n",
    "    )\n",
    "    val_two_users.extend(_selected_users)\n",
    "    \n",
    "#     print(prob, val, users_sample_cnt)\n",
    "    \n",
    "assert len(set(val_one_users) & set(val_two_users)) == 0\n",
    "assert len(val_one_users) == len(val_two_users)"
   ]
  },
  {
   "cell_type": "code",
   "execution_count": 425,
   "metadata": {},
   "outputs": [
    {
     "data": {
      "text/plain": [
       "16550"
      ]
     },
     "execution_count": 425,
     "metadata": {},
     "output_type": "execute_result"
    }
   ],
   "source": [
    "all_val_users = set(val_one_users) | set(val_two_users)\n",
    "len(all_val_users)"
   ]
  },
  {
   "cell_type": "code",
   "execution_count": 426,
   "metadata": {},
   "outputs": [
    {
     "data": {
      "text/plain": [
       "<matplotlib.axes._subplots.AxesSubplot at 0x7f2f15d15978>"
      ]
     },
     "execution_count": 426,
     "metadata": {},
     "output_type": "execute_result"
    },
    {
     "data": {
      "image/png": "[encoded data removed]",
      "text/plain": [
       "<Figure size 432x288 with 1 Axes>"
      ]
     },
     "metadata": {
      "needs_background": "light"
     },
     "output_type": "display_data"
    }
   ],
   "source": [
    "# val_clicks_cnt['pictures_cnt'].hist(log=True, alpha=0.7, color='blue', bins=10)\n",
    "# test_clicks_cnt['pictures_cnt'].hist(log=True, alpha=0.7, color='gray', bins=10)\n",
    "val_clicks_cnt[val_clicks_cnt['user_id'].isin(val_one_users)]['pictures_cnt'].hist(log=True, alpha=0.7, color='g')\n",
    "val_clicks_cnt[val_clicks_cnt['user_id'].isin(val_two_users)]['pictures_cnt'].hist(log=True, alpha=0.7, color='r')"
   ]
  },
  {
   "cell_type": "markdown",
   "metadata": {},
   "source": [
    "### Обогащаем трейн"
   ]
  },
  {
   "cell_type": "code",
   "execution_count": 448,
   "metadata": {},
   "outputs": [],
   "source": [
    "val_train_clicks = train_clicks.query(\"user_id in @all_val_users\")\n",
    "val_train_likes = train_likes.query(\"user_id in @all_val_users\")\n",
    "val_train_shares = train_shares.query(\"user_id in @all_val_users\")\n",
    "\n",
    "not_val_data_clicks = data_clicks.query(\"user_id not in @all_val_users\")\n",
    "not_val_data_likes = data_likes.query(\"user_id not in @all_val_users\")\n",
    "not_val_data_shares = data_shares.query(\"user_id not in @all_val_users\")"
   ]
  },
  {
   "cell_type": "code",
   "execution_count": 450,
   "metadata": {},
   "outputs": [],
   "source": [
    "enriched_train_clicks = pd.concat([not_val_data_clicks, val_train_clicks], ignore_index=True)\n",
    "enriched_train_likes = pd.concat([not_val_data_likes, val_train_likes], ignore_index=True)\n",
    "enriched_train_shares = pd.concat([not_val_data_shares, val_train_shares], ignore_index=True)"
   ]
  },
  {
   "cell_type": "code",
   "execution_count": 454,
   "metadata": {},
   "outputs": [],
   "source": [
    "enriched_train_clicks.to_hdf(os.path.join(DATA_PATH, 'step1_enriched_train_clicks.h5'), index=None, key='step1')\n",
    "enriched_train_likes.to_hdf(os.path.join(DATA_PATH, 'step1_enriched_train_likes.h5'), index=None, key='step1')\n",
    "enriched_train_shares.to_hdf(os.path.join(DATA_PATH, 'step1_enriched_train_shares.h5'), index=None, key='step1')"
   ]
  },
  {
   "cell_type": "markdown",
   "metadata": {},
   "source": [
    "### Сохраняем пользователей"
   ]
  },
  {
   "cell_type": "code",
   "execution_count": 437,
   "metadata": {},
   "outputs": [],
   "source": [
    "import json\n",
    "\n",
    "with open(os.path.join(DATA_PATH, 'val1_users.json'), 'w') as f:\n",
    "    json.dump({'users': list(map(int, val_one_users))}, f)\n",
    "    \n",
    "with open(os.path.join(DATA_PATH, 'val2_users.json'), 'w') as f:\n",
    "    json.dump({'users': list(map(int, val_two_users))}, f)"
   ]
  },
  {
   "cell_type": "code",
   "execution_count": 456,
   "metadata": {},
   "outputs": [
    {
     "name": "stdout",
     "output_type": "stream",
     "text": [
      "total 370M\r\n",
      "drwxrwxrwx 1 root root  424 Jun  1 14:49 .\r\n",
      "drwxrwxrwx 1 root root 4.0K Jun  1 14:48 ..\r\n",
      "-rwxrwxrwx 1 root root   53 Jun  1 11:12 desc_mapping.csv\r\n",
      "-rwxrwxrwx 1 root root 109M Jun  1 11:11 step0_clicks.h5\r\n",
      "-rwxrwxrwx 1 root root  15M Jun  1 11:28 step0_likes.h5\r\n",
      "-rwxrwxrwx 1 root root 2.3M Jun  1 11:11 step0_shares.h5\r\n",
      "-rwxrwxrwx 1 root root 106M Jun  1 14:48 step1_enriched_train_clicks.h5\r\n",
      "-rwxrwxrwx 1 root root  14M Jun  1 14:48 step1_enriched_train_likes.h5\r\n",
      "-rwxrwxrwx 1 root root 2.2M Jun  1 14:48 step1_enriched_train_shares.h5\r\n",
      "-rwxrwxrwx 1 root root  97M Jun  1 14:49 step1_train_clicks.h5\r\n",
      "-rwxrwxrwx 1 root root  13M Jun  1 14:49 step1_train_likes.h5\r\n",
      "-rwxrwxrwx 1 root root 2.1M Jun  1 14:49 step1_train_shares.h5\r\n",
      "-rwxrwxrwx 1 root root 6.3M Jun  1 14:17 step1_val_clicks.h5\r\n",
      "-rwxrwxrwx 1 root root 5.8M Jun  1 11:12 user_mapping.csv\r\n",
      "-rwxrwxrwx 1 root root  63K Jun  1 14:26 val1_users.json\r\n",
      "-rwxrwxrwx 1 root root  63K Jun  1 14:26 val2_users.json\r\n"
     ]
    }
   ],
   "source": [
    "!ls -alh data"
   ]
  }
 ],
 "metadata": {
  "kernelspec": {
   "display_name": "Python 3",
   "language": "python",
   "name": "python3"
  },
  "language_info": {
   "codemirror_mode": {
    "name": "ipython",
    "version": 3
   },
   "file_extension": ".py",
   "mimetype": "text/x-python",
   "name": "python",
   "nbconvert_exporter": "python",
   "pygments_lexer": "ipython3",
   "version": "3.5.2"
  }
 },
 "nbformat": 4,
 "nbformat_minor": 2
}
